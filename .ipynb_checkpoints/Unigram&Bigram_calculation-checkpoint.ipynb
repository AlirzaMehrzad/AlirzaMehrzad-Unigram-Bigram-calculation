{
  "nbformat": 4,
  "nbformat_minor": 0,
  "metadata": {
    "colab": {
      "provenance": []
    },
    "kernelspec": {
      "name": "python3",
      "display_name": "Python 3"
    },
    "language_info": {
      "name": "python"
    }
  },
  "cells": [
    {
      "cell_type": "code",
      "execution_count": 106,
      "metadata": {
        "colab": {
          "base_uri": "https://localhost:8080/"
        },
        "id": "pyXfSKQbsG_A",
        "outputId": "a23df125-8678-46a0-e60a-762657ee945c"
      },
      "outputs": [
        {
          "output_type": "stream",
          "name": "stdout",
          "text": [
            "Drive already mounted at /content/drive; to attempt to forcibly remount, call drive.mount(\"/content/drive\", force_remount=True).\n"
          ]
        }
      ],
      "source": [
        "from google.colab import drive\n",
        "drive.mount('/content/drive')"
      ]
    },
    {
      "cell_type": "code",
      "source": [
        "def read_file(path_to_file):\n",
        "  data = []\n",
        "\n",
        "  with open(path_to_file, 'r') as ptr:\n",
        "    for line in ptr:\n",
        "      tmp = line.strip()\n",
        "      tmp = line.replace('؟', '')\n",
        "      tmp = line.replace('.', '')\n",
        "      tmp = line.replace('!', '')\n",
        "      tmp = line.replace('/', '')\n",
        "      data.append(tmp)\n",
        "\n",
        "  return data"
      ],
      "metadata": {
        "id": "LuQGx7EMmNn_"
      },
      "execution_count": 107,
      "outputs": []
    },
    {
      "cell_type": "code",
      "source": [
        "scentences = read_file('/content/drive/MyDrive/datasets/moulavi.txt')"
      ],
      "metadata": {
        "id": "kbwO1cagkQLD"
      },
      "execution_count": 108,
      "outputs": []
    },
    {
      "cell_type": "code",
      "source": [
        "print(scentences[10])"
      ],
      "metadata": {
        "colab": {
          "base_uri": "https://localhost:8080/"
        },
        "id": "Ablz6yeq93uc",
        "outputId": "68926d04-14a3-41a7-daa8-ceb21528cab2"
      },
      "execution_count": 109,
      "outputs": [
        {
          "output_type": "stream",
          "name": "stdout",
          "text": [
            "هر کسی کو دور ماند از اصل خویش  باز جوید روزگار وصل خویش\n",
            "\n"
          ]
        }
      ]
    },
    {
      "cell_type": "markdown",
      "source": [
        "Unigram LM"
      ],
      "metadata": {
        "id": "5o3MnvIL-c2V"
      }
    },
    {
      "cell_type": "code",
      "source": [
        "def calc_unigram_words(corpus):\n",
        "  word_count = {}\n",
        "  total_words = 0\n",
        "\n",
        "  for doc in corpus:\n",
        "    tmp = doc.split(' ')\n",
        "    total_words += len(tmp)\n",
        "\n",
        "    for word in tmp:\n",
        "      if(not (word in word_count)):\n",
        "        word_count[word] = 0\n",
        "\n",
        "      word_count[word] = word_count[word] + 1\n",
        "\n",
        "  return word_count, total_words"
      ],
      "metadata": {
        "id": "x6VFEec4-XPN"
      },
      "execution_count": 110,
      "outputs": []
    },
    {
      "cell_type": "code",
      "source": [
        "word_count, total_words = calc_unigram_words(scentences)"
      ],
      "metadata": {
        "id": "DkLX3ZQt_ZXv"
      },
      "execution_count": 111,
      "outputs": []
    },
    {
      "cell_type": "code",
      "source": [
        "word_count['از']"
      ],
      "metadata": {
        "colab": {
          "base_uri": "https://localhost:8080/"
        },
        "id": "snIELMa8_kpl",
        "outputId": "d6c6f518-7edb-4560-e4c7-0ff79cc81938"
      },
      "execution_count": 123,
      "outputs": [
        {
          "output_type": "execute_result",
          "data": {
            "text/plain": [
              "18297"
            ]
          },
          "metadata": {},
          "execution_count": 123
        }
      ]
    },
    {
      "cell_type": "code",
      "source": [
        "total_words"
      ],
      "metadata": {
        "colab": {
          "base_uri": "https://localhost:8080/"
        },
        "id": "BbBlFafQALTO",
        "outputId": "ca6eb424-0f6e-471b-97fe-07ed3b70ec32"
      },
      "execution_count": 113,
      "outputs": [
        {
          "output_type": "execute_result",
          "data": {
            "text/plain": [
              "957132"
            ]
          },
          "metadata": {},
          "execution_count": 113
        }
      ]
    },
    {
      "cell_type": "code",
      "source": [
        "def get_unigram_prob(word):\n",
        "  prob = (word_count[word]/total_words)\n",
        "  return prob"
      ],
      "metadata": {
        "id": "ofMbwqtJAP2b"
      },
      "execution_count": 34,
      "outputs": []
    },
    {
      "cell_type": "code",
      "source": [
        "import math\n",
        "\n",
        "def unigram_LM(sent):\n",
        "  prob = 1\n",
        "  tmp = sent.split(' ')\n",
        "\n",
        "  for word in tmp:\n",
        "    prob = prob * get_unigram_prob(word)\n",
        "\n",
        "  return prob"
      ],
      "metadata": {
        "id": "RaNAJb3pAky2"
      },
      "execution_count": 114,
      "outputs": []
    },
    {
      "cell_type": "code",
      "source": [
        "prob_1 = unigram_LM('از فراق حال و قال و ذوق او')"
      ],
      "metadata": {
        "id": "lDQYsUWpA8qd"
      },
      "execution_count": 115,
      "outputs": []
    },
    {
      "cell_type": "code",
      "source": [
        "prob_2 = unigram_LM('از فراق حال و قال و شوق او')"
      ],
      "metadata": {
        "id": "8kaM23MjA8Vg"
      },
      "execution_count": 116,
      "outputs": []
    },
    {
      "cell_type": "code",
      "source": [
        "if prob_1 > prob_2:\n",
        "  print('prob1')\n",
        "else:\n",
        "  print('prob2')"
      ],
      "metadata": {
        "colab": {
          "base_uri": "https://localhost:8080/"
        },
        "id": "F5wCKuWNBSyh",
        "outputId": "9d84ab32-1efb-4c15-c308-b159bdf1a3b0"
      },
      "execution_count": 117,
      "outputs": [
        {
          "output_type": "stream",
          "name": "stdout",
          "text": [
            "prob1\n"
          ]
        }
      ]
    },
    {
      "cell_type": "markdown",
      "source": [
        "Bigram LM"
      ],
      "metadata": {
        "id": "FcSumzOGDV7f"
      }
    },
    {
      "cell_type": "code",
      "source": [
        "# This function collects all words\n",
        "def collect_bigram(corpus):\n",
        "  word_bigrams = {}\n",
        "\n",
        "  for doc in corpus:\n",
        "    tmp = doc.split(' ')\n",
        "\n",
        "    for i in range(1, len(tmp)):\n",
        "      word = tmp[i]\n",
        "      prev_word = tmp[i-1]\n",
        "\n",
        "      if not (word in word_bigrams):\n",
        "        word_bigrams[word] = []\n",
        "\n",
        "      word_bigrams[word].append(prev_word)\n",
        "\n",
        "  return word_bigrams"
      ],
      "metadata": {
        "id": "aP1Vb0oIDMfR"
      },
      "execution_count": 118,
      "outputs": []
    },
    {
      "cell_type": "code",
      "source": [
        "word_biagrams = collect_bigram(scentences)"
      ],
      "metadata": {
        "id": "Yl-jXK0MEV5B"
      },
      "execution_count": 119,
      "outputs": []
    },
    {
      "cell_type": "code",
      "source": [
        "print(word_biagrams['جوید'])\n",
        "print(len(word_biagrams['جوید']))"
      ],
      "metadata": {
        "colab": {
          "base_uri": "https://localhost:8080/"
        },
        "id": "-hEpes90EcZG",
        "outputId": "02999699-52c5-432b-9ab7-b8f8de7b59c1"
      },
      "execution_count": 120,
      "outputs": [
        {
          "output_type": "stream",
          "name": "stdout",
          "text": [
            "['باز', 'همی', 'خصومت', 'گریزد', 'آب', 'گاه', 'تقرب', 'دنیا', 'مولی', 'را', 'وا', 'نفس', 'کرده', 'کی', 'که', 'مار', 'پایست', 'تهی', 'خود', 'او', 'وا', 'علامت', 'زان', 'سفر', 'او', 'استعانت', 'حرص', 'را', 'ره', 'اصطرلاب', 'جانت', 'زان', 'کاغذی', 'که', 'کجا', 'مطلبت', 'مشتری', 'خران', 'اندوز', 'خلاص', 'تا', 'نیستی', 'پستی', 'من', 'کجا', 'کجا', 'کی', 'پسر', 'مرا', 'هوا', 'نباشد', 'کو', 'بحر', 'بخت', 'بصر', 'کی', 'چه', '', 'وار', 'شاه', 'را', 'تو', 'که', 'می', 'چه', 'چه', 'یکی', 'جان', 'کو', 'مرا', 'کو', 'او', 'را', 'آسیا', 'چگونه', 'خنده', 'کی', 'شیخ', 'که', 'بطی', 'آدمی', 'مستمند', 'موضع', 'علم', 'عقل']\n",
            "85\n"
          ]
        }
      ]
    },
    {
      "cell_type": "code",
      "source": [
        "def get_biagram_prob(word, prev_word):\n",
        "\n",
        "  biagrams = word_biagrams[word]\n",
        "  count = 0\n",
        "\n",
        "  for elem in biagrams:\n",
        "    if elem == prev_word:\n",
        "      count += 1\n",
        "\n",
        "  N = word_count[prev_word]\n",
        "  prob = count / N\n",
        "\n",
        "  return prob\n"
      ],
      "metadata": {
        "id": "tYy4e4J6Et4g"
      },
      "execution_count": 121,
      "outputs": []
    },
    {
      "cell_type": "code",
      "source": [
        "get_biagram_prob('شوق', 'او')"
      ],
      "metadata": {
        "colab": {
          "base_uri": "https://localhost:8080/"
        },
        "id": "_KHUimH1FZEk",
        "outputId": "422504a3-1cff-4fb0-af2f-00d4276e38b8"
      },
      "execution_count": 126,
      "outputs": [
        {
          "output_type": "execute_result",
          "data": {
            "text/plain": [
              "0.0"
            ]
          },
          "metadata": {},
          "execution_count": 126
        }
      ]
    },
    {
      "cell_type": "code",
      "source": [
        "def bigram_LM(sent):\n",
        "  prob = 1\n",
        "  tmp = sent.split(' ')\n",
        "  prob = prob * (word_count[tmp[0]] / total_words)\n",
        "\n",
        "  for i in range(1, len(tmp)):\n",
        "    prob = prob * get_biagram_prob(tmp[i], tmp[i-1])\n",
        "\n",
        "  return prob"
      ],
      "metadata": {
        "id": "p7IY4izqGJZI"
      },
      "execution_count": 46,
      "outputs": []
    },
    {
      "cell_type": "code",
      "source": [
        "prob_1 = unigram_LM('از فراق حال و قال و ذوق او')"
      ],
      "metadata": {
        "id": "8yaEuB1NGsXv"
      },
      "execution_count": 100,
      "outputs": []
    },
    {
      "cell_type": "code",
      "source": [
        "prob_2 = unigram_LM('از فراق حال و قال و شوق او')"
      ],
      "metadata": {
        "id": "YX2HUPH2GvAB"
      },
      "execution_count": 101,
      "outputs": []
    },
    {
      "cell_type": "code",
      "source": [
        "if prob_1 > prob_2:\n",
        "  print('prob1')\n",
        "else:\n",
        "  print('prob2')"
      ],
      "metadata": {
        "colab": {
          "base_uri": "https://localhost:8080/"
        },
        "id": "XKq4n_L1Gzfd",
        "outputId": "318ebbde-ec6c-4737-d525-520fda5e1c2e"
      },
      "execution_count": 102,
      "outputs": [
        {
          "output_type": "stream",
          "name": "stdout",
          "text": [
            "prob1\n"
          ]
        }
      ]
    }
  ]
}